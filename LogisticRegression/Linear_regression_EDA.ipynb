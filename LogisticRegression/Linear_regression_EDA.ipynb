{
 "cells": [
  {
   "cell_type": "code",
   "execution_count": 1,
   "metadata": {},
   "outputs": [],
   "source": [
    "from LogisticRegression_model import load_data, train_with_kfold\n",
    "import matplotlib.pyplot as plt"
   ]
  },
  {
   "cell_type": "code",
   "execution_count": 2,
   "metadata": {},
   "outputs": [],
   "source": [
    "df = load_data()\n",
    "train_scores, test_scores = train_with_kfold(df)\n",
    "\n",
    "\n",
    "# # Hàm vẽ biểu đồ thể hiện overfitting/underfitting\n",
    "# def plot_overfitting(train_scores, test_scores):\n",
    "#     fig, ax = plt.subplots()\n",
    "#     fold_range = range(1, len(train_scores) + 1)\n",
    "\n",
    "#     # Vẽ điểm accuracy trên tập huấn luyện và kiểm tra cho từng fold\n",
    "#     ax.plot(fold_range, train_scores, label=\"Train Accuracy\", marker=\"o\", color=\"blue\")\n",
    "#     ax.plot(fold_range, test_scores, label=\"Test Accuracy\", marker=\"o\", color=\"red\")\n",
    "\n",
    "#     # Đặt nhãn và tiêu đề\n",
    "#     ax.set_xlabel(\"Fold\")\n",
    "#     ax.set_ylabel(\"Accuracy\")\n",
    "#     ax.set_title(\"Training vs Test Accuracy per Fold\")\n",
    "#     ax.legend()\n",
    "\n",
    "#     # Hiển thị biểu đồ\n",
    "#     plt.show()\n",
    "\n",
    "\n",
    "# # Gọi hàm để vẽ biểu đồ\n",
    "# plot_overfitting(train_scores, test_scores)"
   ]
  }
 ],
 "metadata": {
  "kernelspec": {
   "display_name": "Python 3",
   "language": "python",
   "name": "python3"
  },
  "language_info": {
   "codemirror_mode": {
    "name": "ipython",
    "version": 3
   },
   "file_extension": ".py",
   "mimetype": "text/x-python",
   "name": "python",
   "nbconvert_exporter": "python",
   "pygments_lexer": "ipython3",
   "version": "3.12.6"
  }
 },
 "nbformat": 4,
 "nbformat_minor": 2
}
